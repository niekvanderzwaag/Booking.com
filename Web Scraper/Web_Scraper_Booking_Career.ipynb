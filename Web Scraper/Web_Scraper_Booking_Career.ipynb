{
 "cells": [
  {
   "cell_type": "code",
   "execution_count": 1,
   "id": "918f0585",
   "metadata": {},
   "outputs": [],
   "source": [
    "#Imports\n",
    "from selenium import webdriver\n",
    "from webdriver_manager.chrome import ChromeDriverManager\n",
    "from selenium.webdriver.support.ui import WebDriverWait\n",
    "from selenium.webdriver.common.by import By\n",
    "from selenium.common.exceptions import NoSuchElementException\n",
    "from selenium.common.exceptions import StaleElementReferenceException\n",
    "from selenium.webdriver.support import expected_conditions as EC\n",
    "\n",
    "import time\n",
    "from random import randint\n",
    "\n",
    "import pandas as pd"
   ]
  },
  {
   "cell_type": "code",
   "execution_count": 2,
   "id": "39916825",
   "metadata": {},
   "outputs": [],
   "source": [
    "#Looking for all data related jobs\n",
    "url = 'https://jobs.booking.com/careers'"
   ]
  },
  {
   "cell_type": "code",
   "execution_count": 3,
   "id": "9a7742ce",
   "metadata": {},
   "outputs": [
    {
     "name": "stderr",
     "output_type": "stream",
     "text": [
      "/var/folders/_r/ryq2zqs914vb11q08_c9klqc0000gn/T/ipykernel_60474/1149078196.py:2: DeprecationWarning: executable_path has been deprecated, please pass in a Service object\n",
      "  driver = webdriver.Chrome('/Users/niekvanderzwaag/Downloads/chromedriver')\n"
     ]
    }
   ],
   "source": [
    "#Driver settings\n",
    "driver = webdriver.Chrome('/Users/niekvanderzwaag/Downloads/chromedriver')\n",
    "driver.set_window_size(1200, 1000)\n",
    "driver.get(url)"
   ]
  },
  {
   "cell_type": "code",
   "execution_count": 4,
   "id": "4b2fcbb6",
   "metadata": {},
   "outputs": [],
   "source": [
    "#Scroll to starting element\n",
    "element = driver.find_element(by='xpath', value=\"//*[@id='main-container']/div/div[1]/div/*/button\")\n",
    "driver.execute_script('arguments[0].scrollIntoView();', element)"
   ]
  },
  {
   "cell_type": "code",
   "execution_count": null,
   "id": "620f377e",
   "metadata": {},
   "outputs": [
    {
     "name": "stdout",
     "output_type": "stream",
     "text": [
      "Progress: 1/658\n",
      "Progress: 2/658\n",
      "Progress: 3/658\n",
      "Progress: 4/658\n",
      "Progress: 5/658\n",
      "Progress: 6/658\n",
      "Progress: 7/658\n",
      "Progress: 8/658\n",
      "Progress: 9/658\n",
      "Progress: 10/658\n",
      "Progress: 11/658\n",
      "Progress: 12/658\n",
      "Progress: 13/658\n",
      "Progress: 14/658\n",
      "Progress: 15/658\n",
      "Progress: 16/658\n",
      "Progress: 17/658\n",
      "Progress: 18/658\n",
      "Progress: 19/658\n",
      "Progress: 20/658\n",
      "Progress: 21/658\n",
      "Progress: 22/658\n",
      "Progress: 23/658\n",
      "Progress: 24/658\n",
      "Progress: 25/658\n",
      "Progress: 26/658\n",
      "Progress: 27/658\n",
      "Progress: 28/658\n",
      "Progress: 29/658\n",
      "Progress: 30/658\n",
      "Progress: 31/658\n",
      "Progress: 32/658\n",
      "Progress: 33/658\n",
      "Progress: 34/658\n",
      "Progress: 35/658\n",
      "Progress: 36/658\n",
      "Progress: 37/658\n",
      "Progress: 38/658\n",
      "Progress: 39/658\n",
      "Progress: 40/658\n",
      "Progress: 41/658\n",
      "Progress: 42/658\n",
      "Progress: 43/658\n",
      "Progress: 44/658\n",
      "Progress: 45/658\n",
      "Progress: 46/658\n",
      "Progress: 47/658\n",
      "Progress: 48/658\n",
      "Progress: 49/658\n",
      "Progress: 50/658\n",
      "Progress: 51/658\n",
      "Progress: 52/658\n",
      "Progress: 53/658\n",
      "Progress: 54/658\n",
      "Progress: 55/658\n",
      "Progress: 56/658\n",
      "Progress: 57/658\n",
      "Progress: 58/658\n",
      "Progress: 59/658\n",
      "Progress: 60/658\n",
      "Progress: 61/658\n",
      "Progress: 62/658\n",
      "Progress: 63/658\n",
      "Progress: 64/658\n",
      "Progress: 65/658\n",
      "Progress: 66/658\n",
      "Progress: 67/658\n",
      "Progress: 68/658\n",
      "Progress: 69/658\n",
      "Progress: 70/658\n",
      "Progress: 71/658\n",
      "Progress: 72/658\n",
      "Progress: 73/658\n",
      "Progress: 74/658\n",
      "Progress: 75/658\n",
      "Progress: 76/658\n",
      "Progress: 77/658\n",
      "Progress: 78/658\n",
      "Progress: 79/658\n",
      "Progress: 80/658\n",
      "Progress: 81/658\n",
      "Progress: 82/658\n",
      "Progress: 83/658\n",
      "Progress: 84/658\n",
      "Progress: 85/658\n",
      "Progress: 86/658\n",
      "Progress: 87/658\n",
      "Progress: 88/658\n",
      "Progress: 89/658\n",
      "Progress: 90/658\n",
      "Progress: 91/658\n",
      "Progress: 92/658\n",
      "Progress: 93/658\n",
      "Progress: 94/658\n",
      "Progress: 95/658\n",
      "Progress: 96/658\n",
      "Progress: 97/658\n",
      "Progress: 98/658\n",
      "Progress: 99/658\n"
     ]
    }
   ],
   "source": [
    "jobs = [] #Creating empty list\n",
    "total_jobs = int(driver.find_element(by='xpath', value=\"//*[@id='pcs-body-container']/div[2]/div[1]/div\").text[:3]) #Extracting index for max range\n",
    "i=0\n",
    "\n",
    "while len(jobs) < total_jobs:  #Looking for new jobs whilst True\n",
    "\n",
    "    #Allow for page load\n",
    "    time.sleep(5)\n",
    "\n",
    "    #Going through jobs\n",
    "    for num_job in range(total_jobs):  \n",
    "\n",
    "        print('Progress: {}'.format('' + str(i+1) + '/' + str(total_jobs))) #Progress indicator\n",
    "        if len(jobs) > total_jobs:\n",
    "            break\n",
    "            \n",
    "        #    '//*[@id=\"main-container\"]/div/div[1]/div/div[{}]/span'.format\n",
    "        num_job = driver.find_elements(by='xpath', value=('//*[@id=\"main-container\"]/div/div[1]/div/*'))[i] #Selecting iterating element\n",
    "        driver.execute_script('arguments[0].click();', num_job) #Clicking element to open job page\n",
    "        driver.execute_script('arguments[0].scrollIntoView();', num_job) #Scrolling into view to allow loading next page\n",
    "        i += 1\n",
    "        time.sleep(randint(2,6)) #random delays help slow down the process to not exceed resources\n",
    "        collected_successfully = False\n",
    "        \n",
    "        #Collecting job data\n",
    "        while not collected_successfully:\n",
    "            try:\n",
    "                pos_id = driver.find_element(by='xpath', value=('//*[@id=\"main-container\"]/div/div[2]/div/div/div[4]/div/p')).text[4:] #Extracting job id\n",
    "                pos_info = driver.find_element(by='xpath', value=('//*[@id=\"main-container\"]/div/div[1]/div/div[{}]'.format(i))).text #Extracting location\n",
    "                pos_description = driver.find_element(by='class name', value=\"position-job-description\").text #Extracting job description\n",
    "                pos_title = pos_info.split(sep='\\n')[0]\n",
    "                pos_location = pos_info.split(sep='\\n')[1]\n",
    "                pos_team = pos_info.split(sep='\\n')[2]\n",
    "                collected_successfully = True\n",
    "                \n",
    "            except:\n",
    "                time.sleep(randint(2,6))  #random delays help slow down the process to not exceed resources\n",
    "        \n",
    "        #Add jobs to list\n",
    "        jobs.append({'Job ID': pos_id, 'Job Title' : pos_title, 'Job Description' : pos_description , 'Location' : pos_location, 'Team': pos_team})\n",
    "df = pd.DataFrame(jobs) #extract DataFrame from jobs list"
   ]
  },
  {
   "cell_type": "code",
   "execution_count": null,
   "id": "3a427f86",
   "metadata": {},
   "outputs": [],
   "source": [
    "df"
   ]
  },
  {
   "cell_type": "code",
   "execution_count": null,
   "id": "4dc77100",
   "metadata": {},
   "outputs": [],
   "source": [
    "#df.to_csv('Booking_Jobs_All_220227.csv', index=False)"
   ]
  },
  {
   "cell_type": "code",
   "execution_count": null,
   "id": "5950edb9",
   "metadata": {},
   "outputs": [],
   "source": []
  },
  {
   "cell_type": "code",
   "execution_count": null,
   "id": "a81d4328",
   "metadata": {},
   "outputs": [],
   "source": []
  }
 ],
 "metadata": {
  "kernelspec": {
   "display_name": "Python 3 (ipykernel)",
   "language": "python",
   "name": "python3"
  },
  "language_info": {
   "codemirror_mode": {
    "name": "ipython",
    "version": 3
   },
   "file_extension": ".py",
   "mimetype": "text/x-python",
   "name": "python",
   "nbconvert_exporter": "python",
   "pygments_lexer": "ipython3",
   "version": "3.8.12"
  },
  "toc": {
   "base_numbering": 1,
   "nav_menu": {},
   "number_sections": true,
   "sideBar": true,
   "skip_h1_title": false,
   "title_cell": "Table of Contents",
   "title_sidebar": "Contents",
   "toc_cell": false,
   "toc_position": {},
   "toc_section_display": true,
   "toc_window_display": false
  },
  "varInspector": {
   "cols": {
    "lenName": 16,
    "lenType": 16,
    "lenVar": 40
   },
   "kernels_config": {
    "python": {
     "delete_cmd_postfix": "",
     "delete_cmd_prefix": "del ",
     "library": "var_list.py",
     "varRefreshCmd": "print(var_dic_list())"
    },
    "r": {
     "delete_cmd_postfix": ") ",
     "delete_cmd_prefix": "rm(",
     "library": "var_list.r",
     "varRefreshCmd": "cat(var_dic_list()) "
    }
   },
   "types_to_exclude": [
    "module",
    "function",
    "builtin_function_or_method",
    "instance",
    "_Feature"
   ],
   "window_display": false
  }
 },
 "nbformat": 4,
 "nbformat_minor": 5
}
