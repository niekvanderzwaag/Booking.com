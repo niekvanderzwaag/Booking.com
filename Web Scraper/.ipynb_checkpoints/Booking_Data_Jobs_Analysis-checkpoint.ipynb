{
 "cells": [
  {
   "cell_type": "code",
   "execution_count": 1,
   "id": "57ca3e90",
   "metadata": {},
   "outputs": [],
   "source": [
    "#Imports\n",
    "import numpy as np\n",
    "import pandas as pd\n",
    "\n",
    "#String manipulations\n",
    "import re\n",
    "\n",
    "#Visualizations\n",
    "import matplotlib.pyplot as plt\n",
    "import seaborn as sns\n",
    "%matplotlib inline\n",
    "plt.rcParams['figure.figsize'] = [12,6]\n",
    "sns.set(style=\"darkgrid\")\n",
    "\n",
    "#Quality of life\n",
    "import warnings\n",
    "warnings.filterwarnings('ignore')"
   ]
  },
  {
   "cell_type": "code",
   "execution_count": 2,
   "id": "bab47c60",
   "metadata": {},
   "outputs": [],
   "source": [
    "df = pd.read_csv('Booking_Jobs.csv')"
   ]
  },
  {
   "cell_type": "code",
   "execution_count": 3,
   "id": "e7881d78",
   "metadata": {},
   "outputs": [
    {
     "name": "stdout",
     "output_type": "stream",
     "text": [
      "Dataframe shape:  (108, 2)\n"
     ]
    },
    {
     "data": {
      "text/html": [
       "<div>\n",
       "<style scoped>\n",
       "    .dataframe tbody tr th:only-of-type {\n",
       "        vertical-align: middle;\n",
       "    }\n",
       "\n",
       "    .dataframe tbody tr th {\n",
       "        vertical-align: top;\n",
       "    }\n",
       "\n",
       "    .dataframe thead th {\n",
       "        text-align: right;\n",
       "    }\n",
       "</style>\n",
       "<table border=\"1\" class=\"dataframe\">\n",
       "  <thead>\n",
       "    <tr style=\"text-align: right;\">\n",
       "      <th></th>\n",
       "      <th>Job Title</th>\n",
       "      <th>Job Description</th>\n",
       "    </tr>\n",
       "  </thead>\n",
       "  <tbody>\n",
       "    <tr>\n",
       "      <th>0</th>\n",
       "      <td>Data Engineer</td>\n",
       "      <td>Data Engineer (Data Enablement) \\n  About the ...</td>\n",
       "    </tr>\n",
       "    <tr>\n",
       "      <th>1</th>\n",
       "      <td>Manager Data Science Insights - Content Agency</td>\n",
       "      <td>At Booking.com, data drives our decisions. Tec...</td>\n",
       "    </tr>\n",
       "    <tr>\n",
       "      <th>2</th>\n",
       "      <td>Senior Data Engineering Manager - Data &amp; Machi...</td>\n",
       "      <td>It wasn’t so long  ago that booking a trip to ...</td>\n",
       "    </tr>\n",
       "    <tr>\n",
       "      <th>3</th>\n",
       "      <td>Senior Data Engineer - Data &amp; Machine Learning...</td>\n",
       "      <td>Booking.com is proud to be an equal opportunit...</td>\n",
       "    </tr>\n",
       "    <tr>\n",
       "      <th>4</th>\n",
       "      <td>Data Analyst Trip Foundations</td>\n",
       "      <td>It wasn’t so long ago that booking a trip to s...</td>\n",
       "    </tr>\n",
       "  </tbody>\n",
       "</table>\n",
       "</div>"
      ],
      "text/plain": [
       "                                           Job Title  \\\n",
       "0                                      Data Engineer   \n",
       "1     Manager Data Science Insights - Content Agency   \n",
       "2  Senior Data Engineering Manager - Data & Machi...   \n",
       "3  Senior Data Engineer - Data & Machine Learning...   \n",
       "4                      Data Analyst Trip Foundations   \n",
       "\n",
       "                                     Job Description  \n",
       "0  Data Engineer (Data Enablement) \\n  About the ...  \n",
       "1  At Booking.com, data drives our decisions. Tec...  \n",
       "2  It wasn’t so long  ago that booking a trip to ...  \n",
       "3  Booking.com is proud to be an equal opportunit...  \n",
       "4  It wasn’t so long ago that booking a trip to s...  "
      ]
     },
     "execution_count": 3,
     "metadata": {},
     "output_type": "execute_result"
    }
   ],
   "source": [
    "print('Dataframe shape: ', df.shape)\n",
    "df.head()"
   ]
  },
  {
   "cell_type": "code",
   "execution_count": 11,
   "id": "74852181",
   "metadata": {
    "scrolled": true
   },
   "outputs": [
    {
     "name": "stdout",
     "output_type": "stream",
     "text": [
      "<class 'pandas.core.frame.DataFrame'>\n",
      "RangeIndex: 108 entries, 0 to 107\n",
      "Data columns (total 2 columns):\n",
      " #   Column           Non-Null Count  Dtype \n",
      "---  ------           --------------  ----- \n",
      " 0   Job Title        108 non-null    object\n",
      " 1   Job Description  108 non-null    object\n",
      "dtypes: object(2)\n",
      "memory usage: 1.8+ KB\n"
     ]
    }
   ],
   "source": [
    "df.info()"
   ]
  },
  {
   "cell_type": "code",
   "execution_count": 12,
   "id": "a52b8d8f",
   "metadata": {},
   "outputs": [
    {
     "data": {
      "text/plain": [
       "Index(['Job Title', 'Job Description'], dtype='object')"
      ]
     },
     "execution_count": 12,
     "metadata": {},
     "output_type": "execute_result"
    }
   ],
   "source": [
    "df.columns"
   ]
  },
  {
   "cell_type": "code",
   "execution_count": null,
   "id": "4c0e771f",
   "metadata": {},
   "outputs": [],
   "source": [
    "# word_count\n",
    "df['word_count'] = df['text'].apply(lambda x: len(str(x).split()))\n",
    "\n",
    "# unique_word_count\n",
    "df['unique_word_count'] = df['text'].apply(lambda x: len(set(str(x).split())))\n",
    "\n",
    "# stop_word_count\n",
    "df['stop_word_count'] = df['text'].apply(lambda x: len([w for w in str(x).lower().split() if w in STOPWORDS]))\n",
    "\n",
    "# url_count\n",
    "df['url_count'] = df['text'].apply(lambda x: len([w for w in str(x).lower().split() if 'http' in w or 'https' in w]))\n",
    "\n",
    "# mean_word_length\n",
    "df['mean_word_length'] = df['text'].apply(lambda x: np.mean([len(w) for w in str(x).split()]))\n",
    "\n",
    "# char_count\n",
    "df['char_count'] = df['text'].apply(lambda x: len(str(x)))"
   ]
  },
  {
   "cell_type": "code",
   "execution_count": 5,
   "id": "394cffe3",
   "metadata": {},
   "outputs": [
    {
     "name": "stdout",
     "output_type": "stream",
     "text": [
      "0      Data Engineer (Data Enablement) \\n  About the ...\n",
      "1      At Booking.com, data drives our decisions. Tec...\n",
      "2      It wasn’t so long  ago that booking a trip to ...\n",
      "3      Booking.com is proud to be an equal opportunit...\n",
      "4      It wasn’t so long ago that booking a trip to s...\n",
      "                             ...                        \n",
      "103    We offer a dynamic, motivating and sophisticat...\n",
      "104    Do you enjoy taking ownership and being respon...\n",
      "105    As an Account Manager you are responsible for ...\n",
      "106    Do you enjoy taking ownership and being respon...\n",
      "107    Do you enjoy taking ownership and being respon...\n",
      "Name: Job Description, Length: 108, dtype: object\n"
     ]
    }
   ],
   "source": [
    "print(df['Job Description'])"
   ]
  },
  {
   "cell_type": "code",
   "execution_count": 11,
   "id": "6eda1b21",
   "metadata": {},
   "outputs": [],
   "source": [
    "x = df['Job Description'].astype(str)"
   ]
  },
  {
   "cell_type": "code",
   "execution_count": 12,
   "id": "e2a25d5f",
   "metadata": {},
   "outputs": [
    {
     "name": "stdout",
     "output_type": "stream",
     "text": [
      "0      Data Engineer (Data Enablement) \\n  About the ...\n",
      "1      At Booking.com, data drives our decisions. Tec...\n",
      "2      It wasn’t so long  ago that booking a trip to ...\n",
      "3      Booking.com is proud to be an equal opportunit...\n",
      "4      It wasn’t so long ago that booking a trip to s...\n",
      "5      At Booking.com, data drives our decisions. Tec...\n",
      "6      Booking.com is proud to be an equal opportunit...\n",
      "7      Performance Marketing department is looking fo...\n",
      "8      The team you’d join - Change Data Capture or P...\n",
      "9      It wasn’t so long ago that booking a trip to s...\n",
      "10     Position Summary\\nWorks autonomously with data...\n",
      "11     Data Product Manager - Marketing Data Enrichme...\n",
      "12     We are looking for a data savvy professional t...\n",
      "13     Not long ago, booking a trip to see the Eiffel...\n",
      "14     At Booking.com BV data drives our decisions. T...\n",
      "15     It wasn’t so long ago that booking a trip to s...\n",
      "16     The Manager Data and Reporting Services is res...\n",
      "17     Data Analysts are the drivers of how data is l...\n",
      "18     The team you’d join - Data Compute Platform - ...\n",
      "19     It wasn’t so long ago that booking a trip to s...\n",
      "20     At Booking.com, we make it easier for everyone...\n",
      "21     Data Analysts are the drivers of how data is l...\n",
      "22     Marketing department is looking for a savvy da...\n",
      "23     Our flight business is one of the cornerstones...\n",
      "24     At Booking.com, data drives our decisions. Tec...\n",
      "25     The Data Analyst is responsible for collecting...\n",
      "26     It wasn’t so long ago that booking a trip to s...\n",
      "27     At Booking.com BV data drives our decisions. T...\n",
      "28     As a Machine Learning Scientist you are a subj...\n",
      "29     As a Business Insights Specialist in the Perfo...\n",
      "30     At Booking.com, data drives our decisions. Tec...\n",
      "31     It wasn’t so long ago that booking a trip to s...\n",
      "32     Would you like to translate terabytes of data ...\n",
      "33     As a Reporting Analyst within our PPC team you...\n",
      "34     As a Machine Learning Scientist you are a subj...\n",
      "35     At Booking.com, data drives our decisions. Tec...\n",
      "36     We need a leader! Take control of one of our e...\n",
      "37     As a Reporting Analyst within our Horizontal M...\n",
      "38     Booking.com is the world’s #1 accommodation si...\n",
      "39     At Booking.com, data drives our decisions. Tec...\n",
      "40     Our Trip Foundations team is one of the corner...\n",
      "41     Our flight business is one of the cornerstones...\n",
      "42     At Booking.com, we are seeking a Web Analyst\\n...\n",
      "43     As a Machine Learning Research intern at the M...\n",
      "44     At Booking we make it easier for everyone to e...\n",
      "45     At Booking.com, data drives our decisions. Tec...\n",
      "46     At Booking.com, data drives our decisions. Tec...\n",
      "47     Booking.com is offering a unique opportunity f...\n",
      "48     As a Machine Learning Scientist you are a subj...\n",
      "49     As a Machine Learning Manager you are a driver...\n",
      "50     At Booking.com, data drives our decisions, Tec...\n",
      "51     If you are the kind of engineer that loves Mac...\n",
      "52     At Booking.com, data drives our decisions, Tec...\n",
      "53     It wasn’t so long ago that booking a trip to s...\n",
      "54     Director of Engineering DMLP\\nEstablished in 1...\n",
      "55     Established in 1996 in Amsterdam, Booking.com ...\n",
      "56     It wasn’t so long ago that booking a trip to s...\n",
      "57     Workday Reporting Specialist\\nBooking.com is t...\n",
      "58     It wasn’t so long ago that booking a trip to s...\n",
      "59     Booking.com BV (the company behind Booking.com...\n",
      "60     As a Marketing Analyst at booking.com, sitting...\n",
      "61     At Booking.com, data drives our decisions. Tec...\n",
      "62     At Booking.com, we believe travel is a force f...\n",
      "63     It wasn’t so long ago that booking a trip to s...\n",
      "64     At Booking.com, our mission is to make it easi...\n",
      "65     About the role\\nThe Senior Program Manager is ...\n",
      "66     Job title:  Manager - Strategy and Operations ...\n",
      "67     It wasn’t so long ago that booking a trip so s...\n",
      "68     About Segments\\nSegments is part of the Accomm...\n",
      "69     As a Key Account Manager, you are responsible ...\n",
      "70     Our Company\\nFounded in 1996 in Amsterdam, Boo...\n",
      "71     At Booking.com, data drives our decisions. Tec...\n",
      "72     It was not so long ago that booking a trip to ...\n",
      "73     Senior Product Manager Mobile Apps - Partnersh...\n",
      "74     At Booking.com, data drives our decisions. Tec...\n",
      "75     The PMO Senior Analyst - People (HR)  will be ...\n",
      "76     It wasn’t so long ago that booking a trip to s...\n",
      "77     It was not so long ago that booking a trip to ...\n",
      "78     It was not so long ago that booking a trip to ...\n",
      "79     Booking Holdings Romania is a Center of Excell...\n",
      "80     It wasn’t so long ago that booking a trip to s...\n",
      "81     We are looking for a Backend Developer to join...\n",
      "82     Do you thrive in a fast-paced environment? Are...\n",
      "83     At Booking.com, The Content Agency is constant...\n",
      "84     As a Key Account Manager, you are responsible ...\n",
      "85     About Booking.com\\nAt Booking.com, data drives...\n",
      "86     Finance Analyst (FP&A)\\nManchester \\n  About t...\n",
      "87     Booking Holdings Romania is a Center of Excell...\n",
      "88     Our Company\\nFounded in 1996 in Amsterdam, Boo...\n",
      "89     At Booking.com, data drives our decisions. Tec...\n",
      "90     Engineering Manager - Insurance - Front-End\\nN...\n",
      "91     At Booking.com, our mission is to make it easi...\n",
      "92     It wasn’t so long ago that booking a trip to s...\n",
      "93     Crisis Management Senior Specialist - Group Re...\n",
      "94     JOB DESCRIPTION FOR: VP Finance (FP&A)\\nOur Co...\n",
      "95       As a Digital Marketing Specialist, you would...\n",
      "96     Booking.com is the world’s leading accommodati...\n",
      "97     At Booking.com we aim to provide all of our gu...\n",
      "98     Engineering Manager – Business Operations\\n\\nW...\n",
      "99     About Booking.com\\nAt Booking.com, data drives...\n",
      "100    Engineering Manager – Mobile\\nWho are we?\\nAt ...\n",
      "101    Engineering Manager \\nWho are we? \\nAt Booking...\n",
      "102    Booking Holdings (NASDAQ: BKNG) is the world l...\n",
      "103    We offer a dynamic, motivating and sophisticat...\n",
      "104    Do you enjoy taking ownership and being respon...\n",
      "105    As an Account Manager you are responsible for ...\n",
      "106    Do you enjoy taking ownership and being respon...\n",
      "107    Do you enjoy taking ownership and being respon...\n",
      "Name: Job Description, dtype: object\n"
     ]
    }
   ],
   "source": [
    "print(x)"
   ]
  },
  {
   "cell_type": "code",
   "execution_count": null,
   "id": "37912448",
   "metadata": {},
   "outputs": [],
   "source": []
  }
 ],
 "metadata": {
  "kernelspec": {
   "display_name": "Python 3 (ipykernel)",
   "language": "python",
   "name": "python3"
  },
  "language_info": {
   "codemirror_mode": {
    "name": "ipython",
    "version": 3
   },
   "file_extension": ".py",
   "mimetype": "text/x-python",
   "name": "python",
   "nbconvert_exporter": "python",
   "pygments_lexer": "ipython3",
   "version": "3.8.12"
  }
 },
 "nbformat": 4,
 "nbformat_minor": 5
}
